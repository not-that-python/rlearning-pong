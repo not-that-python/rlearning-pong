{
 "cells": [
  {
   "cell_type": "code",
   "execution_count": 1,
   "id": "9675df48",
   "metadata": {},
   "outputs": [],
   "source": [
    "from pettingzoo.atari import pong_v3\n",
    "import time\n",
    "import cv2\n",
    "import numpy as np"
   ]
  },
  {
   "cell_type": "code",
   "execution_count": null,
   "id": "71c2e39e",
   "metadata": {},
   "outputs": [],
   "source": [
    "env = pong_v3.parallel_env(render_mode=\"rgb_array\")\n",
    "observations, infos = env.reset()\n",
    "\n",
    "directions = {\n",
    "    32: 1,\n",
    "    82: 2,\n",
    "    84: 3,\n",
    "    83: 4,\n",
    "    81: 5,\n",
    "    -1: 0\n",
    "}\n",
    "\n",
    "fps = 60\n",
    "overflow = 0\n",
    "key = -1\n",
    "\n",
    "while env.agents:\n",
    "    startTime = time.time()\n",
    "\n",
    "    # this is where you would insert your policy\n",
    "    # actions = {agent: env.action_space(agent).sample() for agent in env.agents}\n",
    "    actions = {\n",
    "        env.agents[0]: env.action_space(env.agents[0]).sample(),\n",
    "        env.agents[1]: directions[key] if key in directions else 0\n",
    "    }\n",
    "\n",
    "    observations, rewards, terminations, truncations, infos = env.step(actions)\n",
    "    # print('observations:', observations)\n",
    "    image = env.render()\n",
    "    # cv2.imwrite('pong.jpg', image)\n",
    "    cv2.imshow('pong', image)\n",
    "    \n",
    "    \n",
    "    endTime = time.time()\n",
    "    \n",
    "    elapsedTime = endTime - startTime\n",
    "    wait = 1/fps - elapsedTime + overflow\n",
    "    overflow = min(0, wait)\n",
    "    \n",
    "    key = cv2.waitKey(int(max(0, wait*1000)))\n",
    "\n",
    "env.close()"
   ]
  }
 ],
 "metadata": {
  "kernelspec": {
   "display_name": "Python 3 (ipykernel)",
   "language": "python",
   "name": "python3"
  },
  "language_info": {
   "codemirror_mode": {
    "name": "ipython",
    "version": 3
   },
   "file_extension": ".py",
   "mimetype": "text/x-python",
   "name": "python",
   "nbconvert_exporter": "python",
   "pygments_lexer": "ipython3",
   "version": "3.9.23"
  }
 },
 "nbformat": 4,
 "nbformat_minor": 5
}
